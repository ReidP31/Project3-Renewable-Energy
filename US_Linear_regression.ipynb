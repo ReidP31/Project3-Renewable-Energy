{
 "cells": [
  {
   "cell_type": "markdown",
   "metadata": {},
   "source": [
    "# Multiple-linear model for US"
   ]
  },
  {
   "cell_type": "code",
   "execution_count": 1,
   "metadata": {},
   "outputs": [],
   "source": [
    "# import dependencies\n",
    "%matplotlib inline\n",
    "import matplotlib.pyplot as plt\n",
    "import pandas as pd\n",
    "import numpy as np\n",
    "import sklearn"
   ]
  },
  {
   "cell_type": "code",
   "execution_count": 2,
   "metadata": {},
   "outputs": [
    {
     "data": {
      "text/html": [
       "<div>\n",
       "<style scoped>\n",
       "    .dataframe tbody tr th:only-of-type {\n",
       "        vertical-align: middle;\n",
       "    }\n",
       "\n",
       "    .dataframe tbody tr th {\n",
       "        vertical-align: top;\n",
       "    }\n",
       "\n",
       "    .dataframe thead th {\n",
       "        text-align: right;\n",
       "    }\n",
       "</style>\n",
       "<table border=\"1\" class=\"dataframe\">\n",
       "  <thead>\n",
       "    <tr style=\"text-align: right;\">\n",
       "      <th></th>\n",
       "      <th>Unnamed: 0</th>\n",
       "      <th>Year</th>\n",
       "      <th>Produced Renewable(Billion Btu)</th>\n",
       "      <th>Total Consumed(Billion Btu)</th>\n",
       "      <th>GDP(Million dollar)</th>\n",
       "      <th>Population(Thousand)</th>\n",
       "      <th>Energy Price(dollars in million btu)</th>\n",
       "    </tr>\n",
       "  </thead>\n",
       "  <tbody>\n",
       "    <tr>\n",
       "      <th>0</th>\n",
       "      <td>0</td>\n",
       "      <td>1970</td>\n",
       "      <td>4070021.0</td>\n",
       "      <td>67720114.0</td>\n",
       "      <td>0.0</td>\n",
       "      <td>205052.0</td>\n",
       "      <td>1.65</td>\n",
       "    </tr>\n",
       "    <tr>\n",
       "      <th>1</th>\n",
       "      <td>1</td>\n",
       "      <td>1971</td>\n",
       "      <td>4262212.0</td>\n",
       "      <td>69163993.0</td>\n",
       "      <td>0.0</td>\n",
       "      <td>207661.0</td>\n",
       "      <td>1.76</td>\n",
       "    </tr>\n",
       "    <tr>\n",
       "      <th>2</th>\n",
       "      <td>2</td>\n",
       "      <td>1972</td>\n",
       "      <td>4382009.0</td>\n",
       "      <td>72677208.0</td>\n",
       "      <td>0.0</td>\n",
       "      <td>209896.0</td>\n",
       "      <td>1.84</td>\n",
       "    </tr>\n",
       "    <tr>\n",
       "      <th>3</th>\n",
       "      <td>3</td>\n",
       "      <td>1973</td>\n",
       "      <td>4410938.0</td>\n",
       "      <td>75723857.0</td>\n",
       "      <td>0.0</td>\n",
       "      <td>211909.0</td>\n",
       "      <td>2.02</td>\n",
       "    </tr>\n",
       "    <tr>\n",
       "      <th>4</th>\n",
       "      <td>4</td>\n",
       "      <td>1974</td>\n",
       "      <td>4741851.0</td>\n",
       "      <td>73914525.0</td>\n",
       "      <td>0.0</td>\n",
       "      <td>213854.0</td>\n",
       "      <td>2.87</td>\n",
       "    </tr>\n",
       "  </tbody>\n",
       "</table>\n",
       "</div>"
      ],
      "text/plain": [
       "   Unnamed: 0  Year  Produced Renewable(Billion Btu)  \\\n",
       "0           0  1970                        4070021.0   \n",
       "1           1  1971                        4262212.0   \n",
       "2           2  1972                        4382009.0   \n",
       "3           3  1973                        4410938.0   \n",
       "4           4  1974                        4741851.0   \n",
       "\n",
       "   Total Consumed(Billion Btu)  GDP(Million dollar)  Population(Thousand)  \\\n",
       "0                   67720114.0                  0.0              205052.0   \n",
       "1                   69163993.0                  0.0              207661.0   \n",
       "2                   72677208.0                  0.0              209896.0   \n",
       "3                   75723857.0                  0.0              211909.0   \n",
       "4                   73914525.0                  0.0              213854.0   \n",
       "\n",
       "   Energy Price(dollars in million btu)  \n",
       "0                                  1.65  \n",
       "1                                  1.76  \n",
       "2                                  1.84  \n",
       "3                                  2.02  \n",
       "4                                  2.87  "
      ]
     },
     "execution_count": 2,
     "metadata": {},
     "output_type": "execute_result"
    }
   ],
   "source": [
    "# read the us data\n",
    "us_df = pd.read_csv(\"db/us_energy.csv\")\n",
    "us_df.head()\n"
   ]
  },
  {
   "cell_type": "code",
   "execution_count": 3,
   "metadata": {},
   "outputs": [
    {
     "data": {
      "text/html": [
       "<div>\n",
       "<style scoped>\n",
       "    .dataframe tbody tr th:only-of-type {\n",
       "        vertical-align: middle;\n",
       "    }\n",
       "\n",
       "    .dataframe tbody tr th {\n",
       "        vertical-align: top;\n",
       "    }\n",
       "\n",
       "    .dataframe thead th {\n",
       "        text-align: right;\n",
       "    }\n",
       "</style>\n",
       "<table border=\"1\" class=\"dataframe\">\n",
       "  <thead>\n",
       "    <tr style=\"text-align: right;\">\n",
       "      <th></th>\n",
       "      <th>Unnamed: 0</th>\n",
       "      <th>Year</th>\n",
       "      <th>Produced Renewable(Billion Btu)</th>\n",
       "      <th>Total Consumed(Billion Btu)</th>\n",
       "      <th>GDP(Million dollar)</th>\n",
       "      <th>Population(Thousand)</th>\n",
       "      <th>Energy Price(dollars in million btu)</th>\n",
       "      <th>Difference</th>\n",
       "    </tr>\n",
       "  </thead>\n",
       "  <tbody>\n",
       "    <tr>\n",
       "      <th>43</th>\n",
       "      <td>43</td>\n",
       "      <td>2013</td>\n",
       "      <td>9242048.0</td>\n",
       "      <td>97099401.0</td>\n",
       "      <td>16495400.0</td>\n",
       "      <td>316058.0</td>\n",
       "      <td>21.42</td>\n",
       "      <td>-87857353.0</td>\n",
       "    </tr>\n",
       "    <tr>\n",
       "      <th>44</th>\n",
       "      <td>44</td>\n",
       "      <td>2014</td>\n",
       "      <td>9600941.0</td>\n",
       "      <td>98267257.0</td>\n",
       "      <td>16899800.0</td>\n",
       "      <td>318386.0</td>\n",
       "      <td>21.33</td>\n",
       "      <td>-88666316.0</td>\n",
       "    </tr>\n",
       "    <tr>\n",
       "      <th>45</th>\n",
       "      <td>45</td>\n",
       "      <td>2015</td>\n",
       "      <td>9565096.0</td>\n",
       "      <td>97364113.0</td>\n",
       "      <td>17386700.0</td>\n",
       "      <td>320743.0</td>\n",
       "      <td>17.30</td>\n",
       "      <td>-87799017.0</td>\n",
       "    </tr>\n",
       "    <tr>\n",
       "      <th>46</th>\n",
       "      <td>46</td>\n",
       "      <td>2016</td>\n",
       "      <td>10225357.0</td>\n",
       "      <td>97230097.0</td>\n",
       "      <td>17659200.0</td>\n",
       "      <td>323071.0</td>\n",
       "      <td>15.94</td>\n",
       "      <td>-87004740.0</td>\n",
       "    </tr>\n",
       "    <tr>\n",
       "      <th>47</th>\n",
       "      <td>47</td>\n",
       "      <td>2017</td>\n",
       "      <td>11094237.0</td>\n",
       "      <td>97621515.0</td>\n",
       "      <td>18050700.0</td>\n",
       "      <td>325147.0</td>\n",
       "      <td>17.30</td>\n",
       "      <td>-86527278.0</td>\n",
       "    </tr>\n",
       "  </tbody>\n",
       "</table>\n",
       "</div>"
      ],
      "text/plain": [
       "    Unnamed: 0  Year  Produced Renewable(Billion Btu)  \\\n",
       "43          43  2013                        9242048.0   \n",
       "44          44  2014                        9600941.0   \n",
       "45          45  2015                        9565096.0   \n",
       "46          46  2016                       10225357.0   \n",
       "47          47  2017                       11094237.0   \n",
       "\n",
       "    Total Consumed(Billion Btu)  GDP(Million dollar)  Population(Thousand)  \\\n",
       "43                   97099401.0           16495400.0              316058.0   \n",
       "44                   98267257.0           16899800.0              318386.0   \n",
       "45                   97364113.0           17386700.0              320743.0   \n",
       "46                   97230097.0           17659200.0              323071.0   \n",
       "47                   97621515.0           18050700.0              325147.0   \n",
       "\n",
       "    Energy Price(dollars in million btu)  Difference  \n",
       "43                                 21.42 -87857353.0  \n",
       "44                                 21.33 -88666316.0  \n",
       "45                                 17.30 -87799017.0  \n",
       "46                                 15.94 -87004740.0  \n",
       "47                                 17.30 -86527278.0  "
      ]
     },
     "execution_count": 3,
     "metadata": {},
     "output_type": "execute_result"
    }
   ],
   "source": [
    "# add the difference column\n",
    "us_df[\"Difference\"] = us_df[\"Produced Renewable(Billion Btu)\"]-us_df[\"Total Consumed(Billion Btu)\"]\n",
    "us_df.tail()"
   ]
  },
  {
   "cell_type": "code",
   "execution_count": 4,
   "metadata": {},
   "outputs": [
    {
     "name": "stdout",
     "output_type": "stream",
     "text": [
      "(48, 4) (48, 1)\n"
     ]
    }
   ],
   "source": [
    "# Select X and y values\n",
    "X =us_df[[\"Year\", \"Produced Renewable(Billion Btu)\", \"Population(Thousand)\",\n",
    "           \"Energy Price(dollars in million btu)\"]]\n",
    "y =us_df[\"Difference\"].values.reshape(-1,1)\n",
    "print(X.shape, y.shape)"
   ]
  },
  {
   "cell_type": "code",
   "execution_count": 5,
   "metadata": {},
   "outputs": [
    {
     "name": "stdout",
     "output_type": "stream",
     "text": [
      "(36, 4)\n",
      "(36, 1)\n",
      "(12, 4)\n"
     ]
    }
   ],
   "source": [
    "# Use train_test_split to create training and testing data\n",
    "from sklearn.model_selection import train_test_split\n",
    "\n",
    "X_train, X_test, y_train, y_test = train_test_split(X, y, random_state=42)\n",
    "print(X_train.shape)\n",
    "print(y_train.shape)\n",
    "print(X_test.shape)"
   ]
  },
  {
   "cell_type": "code",
   "execution_count": 6,
   "metadata": {},
   "outputs": [
    {
     "data": {
      "text/plain": [
       "LinearRegression(copy_X=True, fit_intercept=True, n_jobs=None, normalize=False)"
      ]
     },
     "execution_count": 6,
     "metadata": {},
     "output_type": "execute_result"
    }
   ],
   "source": [
    "# create the linear regression model\n",
    "\n",
    "from sklearn.linear_model import LinearRegression\n",
    "\n",
    "model = LinearRegression()\n",
    "model.fit(X_train, y_train)"
   ]
  },
  {
   "cell_type": "code",
   "execution_count": 7,
   "metadata": {},
   "outputs": [
    {
     "name": "stdout",
     "output_type": "stream",
     "text": [
      "MSE: 10093875774930.29, R2: 0.8595146119557204\n"
     ]
    }
   ],
   "source": [
    "# make predictiions and display r2\n",
    "\n",
    "from sklearn.metrics import mean_squared_error\n",
    "\n",
    "predictions = model.predict(X_test)\n",
    "MSE = mean_squared_error(y_test, predictions)\n",
    "r2 = model.score(X_test, y_test)\n",
    "\n",
    "print(f\"MSE: {MSE}, R2: {r2}\")"
   ]
  },
  {
   "cell_type": "markdown",
   "metadata": {},
   "source": [
    "### Create simple linear regression model to make predictiions for the selected features for future predictions"
   ]
  },
  {
   "cell_type": "code",
   "execution_count": 8,
   "metadata": {},
   "outputs": [
    {
     "data": {
      "text/plain": [
       "<matplotlib.collections.PathCollection at 0x1a2c9eba90>"
      ]
     },
     "execution_count": 8,
     "metadata": {},
     "output_type": "execute_result"
    },
    {
     "data": {
      "image/png": "[encoded data removed]",
      "text/plain": [
       "<Figure size 432x288 with 1 Axes>"
      ]
     },
     "metadata": {
      "needs_background": "light"
     },
     "output_type": "display_data"
    }
   ],
   "source": [
    "# make predictions for renewable production\n",
    "X1 = us_df[\"Year\"].values.reshape(-1,1)\n",
    "y1 = us_df[\"Produced Renewable(Billion Btu)\"].values.reshape(-1,1)\n",
    "plt.scatter(X1,y1)"
   ]
  },
  {
   "cell_type": "code",
   "execution_count": 9,
   "metadata": {},
   "outputs": [],
   "source": [
    "# Use train_test_split to create training and testing data\n",
    "from sklearn.model_selection import train_test_split\n",
    "\n",
    "X1_train, X1_test, y1_train, y1_test = train_test_split(X1, y1, random_state=42)"
   ]
  },
  {
   "cell_type": "code",
   "execution_count": 10,
   "metadata": {},
   "outputs": [
    {
     "data": {
      "text/plain": [
       "LinearRegression(copy_X=True, fit_intercept=True, n_jobs=None, normalize=False)"
      ]
     },
     "execution_count": 10,
     "metadata": {},
     "output_type": "execute_result"
    }
   ],
   "source": [
    "# create the linear regression model\n",
    "from sklearn.linear_model import LinearRegression\n",
    "model1 = LinearRegression()\n",
    "model1.fit(X1_train, y1_train)\n"
   ]
  },
  {
   "cell_type": "code",
   "execution_count": 11,
   "metadata": {},
   "outputs": [
    {
     "name": "stdout",
     "output_type": "stream",
     "text": [
      "MSE: 324545727725.1984, R2: 0.8177762558373929\n"
     ]
    }
   ],
   "source": [
    "#make predictiions and display r2\n",
    "\n",
    "from sklearn.metrics import mean_squared_error\n",
    "\n",
    "predictions1 = model1.predict(X1_test)\n",
    "MSE1 = mean_squared_error(y1_test, predictions1)\n",
    "r2 = model1.score(X1_test, y1_test)\n",
    "\n",
    "print(f\"MSE: {MSE1}, R2: {r2}\")"
   ]
  },
  {
   "cell_type": "code",
   "execution_count": 12,
   "metadata": {},
   "outputs": [
    {
     "data": {
      "text/plain": [
       "[8859831.953801751,\n",
       " 8961888.550964028,\n",
       " 9063945.148126304,\n",
       " 9166001.74528858,\n",
       " 9268058.342450887,\n",
       " 9370114.939613163,\n",
       " 9472171.53677544,\n",
       " 9574228.133937716,\n",
       " 9676284.731100023,\n",
       " 9778341.3282623,\n",
       " 9880397.925424576,\n",
       " 9982454.522586852,\n",
       " 10084511.119749159]"
      ]
     },
     "execution_count": 12,
     "metadata": {},
     "output_type": "execute_result"
    }
   ],
   "source": [
    "# Make predictions for next 13 years\n",
    "renewable =[]\n",
    "for i in range(2018, 2031):\n",
    "    r= model1.predict([[i]])\n",
    "    renewable.append(float(r))\n",
    "      \n",
    "    \n",
    "renewable"
   ]
  },
  {
   "cell_type": "code",
   "execution_count": 13,
   "metadata": {},
   "outputs": [
    {
     "data": {
      "text/plain": [
       "<matplotlib.collections.PathCollection at 0x1a2cb1f710>"
      ]
     },
     "execution_count": 13,
     "metadata": {},
     "output_type": "execute_result"
    },
    {
     "data": {
      "image/png": "[encoded data removed]",
      "text/plain": [
       "<Figure size 432x288 with 1 Axes>"
      ]
     },
     "metadata": {
      "needs_background": "light"
     },
     "output_type": "display_data"
    }
   ],
   "source": [
    "# make predictions for population\n",
    "X2 = us_df[\"Year\"].values.reshape(-1,1)\n",
    "y2 = us_df[\"Population(Thousand)\"].values.reshape(-1,1)\n",
    "plt.scatter(X2,y2)"
   ]
  },
  {
   "cell_type": "code",
   "execution_count": 14,
   "metadata": {},
   "outputs": [],
   "source": [
    "# Use train_test_split to create training and testing data\n",
    "from sklearn.model_selection import train_test_split\n",
    "\n",
    "X2_train, X2_test, y2_train, y2_test = train_test_split(X2, y2, random_state=42)"
   ]
  },
  {
   "cell_type": "code",
   "execution_count": 15,
   "metadata": {},
   "outputs": [
    {
     "data": {
      "text/plain": [
       "LinearRegression(copy_X=True, fit_intercept=True, n_jobs=None, normalize=False)"
      ]
     },
     "execution_count": 15,
     "metadata": {},
     "output_type": "execute_result"
    }
   ],
   "source": [
    "# create the linear regression model\n",
    "from sklearn.linear_model import LinearRegression\n",
    "model2 = LinearRegression()\n",
    "model2.fit(X2_train, y2_train)\n"
   ]
  },
  {
   "cell_type": "code",
   "execution_count": 16,
   "metadata": {},
   "outputs": [
    {
     "name": "stdout",
     "output_type": "stream",
     "text": [
      "MSE: 4186045.0085513243, R2: 0.9965091278514452\n"
     ]
    }
   ],
   "source": [
    "#make predictiions and display r2\n",
    "\n",
    "from sklearn.metrics import mean_squared_error\n",
    "\n",
    "predictions2 = model2.predict(X2_test)\n",
    "MSE2 = mean_squared_error(y2_test, predictions2)\n",
    "r2 = model2.score(X2_test, y2_test)\n",
    "\n",
    "print(f\"MSE: {MSE2}, R2: {r2}\")"
   ]
  },
  {
   "cell_type": "code",
   "execution_count": 17,
   "metadata": {},
   "outputs": [
    {
     "data": {
      "text/plain": [
       "[328837.9581328193,\n",
       " 331506.0900369454,\n",
       " 334174.22194107156,\n",
       " 336842.3538451977,\n",
       " 339510.48574932385,\n",
       " 342178.61765345,\n",
       " 344846.74955757614,\n",
       " 347514.8814617023,\n",
       " 350183.01336582843,\n",
       " 352851.1452699546,\n",
       " 355519.2771740807,\n",
       " 358187.40907820687,\n",
       " 360855.540982333]"
      ]
     },
     "execution_count": 17,
     "metadata": {},
     "output_type": "execute_result"
    }
   ],
   "source": [
    "# make predictions for next 13 years\n",
    "population = []\n",
    "for i in range(2018, 2031):\n",
    "    p = model2.predict([[i]])\n",
    "    population.append(float(p))\n",
    "    \n",
    "population"
   ]
  },
  {
   "cell_type": "code",
   "execution_count": 18,
   "metadata": {},
   "outputs": [
    {
     "data": {
      "text/plain": [
       "<matplotlib.collections.PathCollection at 0x1a2cb6b650>"
      ]
     },
     "execution_count": 18,
     "metadata": {},
     "output_type": "execute_result"
    },
    {
     "data": {
      "image/png": "[encoded data removed]",
      "text/plain": [
       "<Figure size 432x288 with 1 Axes>"
      ]
     },
     "metadata": {
      "needs_background": "light"
     },
     "output_type": "display_data"
    }
   ],
   "source": [
    "# make prediction for energy price\n",
    "\n",
    "X3 = us_df[\"Year\"].values.reshape(-1,1)\n",
    "y3 = us_df[\"Energy Price(dollars in million btu)\"].values.reshape(-1,1)\n",
    "plt.scatter(X3,y3)"
   ]
  },
  {
   "cell_type": "code",
   "execution_count": 19,
   "metadata": {},
   "outputs": [],
   "source": [
    "# Use train_test_split to create training and testing data\n",
    "from sklearn.model_selection import train_test_split\n",
    "\n",
    "X3_train, X3_test, y3_train, y3_test = train_test_split(X3, y3, random_state=42)"
   ]
  },
  {
   "cell_type": "code",
   "execution_count": 20,
   "metadata": {},
   "outputs": [
    {
     "name": "stdout",
     "output_type": "stream",
     "text": [
      "MSE: 5.0325093328729364, R2: 0.8639014996473213\n"
     ]
    }
   ],
   "source": [
    "# create the linear regression model\n",
    "from sklearn.linear_model import LinearRegression\n",
    "model3 = LinearRegression()\n",
    "model3.fit(X3_train, y3_train)\n",
    "\n",
    "#make predictiions and display r2\n",
    "\n",
    "from sklearn.metrics import mean_squared_error\n",
    "\n",
    "predictions3 = model3.predict(X3_test)\n",
    "MSE3 = mean_squared_error(y3_test, predictions3)\n",
    "r2 = model3.score(X3_test, y3_test)\n",
    "\n",
    "print(f\"MSE: {MSE3}, R2: {r2}\")\n"
   ]
  },
  {
   "cell_type": "code",
   "execution_count": 21,
   "metadata": {},
   "outputs": [
    {
     "data": {
      "text/plain": [
       "[19.63712945139548,\n",
       " 20.018404405600904,\n",
       " 20.399679359806214,\n",
       " 20.780954314011524,\n",
       " 21.162229268216947,\n",
       " 21.543504222422257,\n",
       " 21.924779176627567,\n",
       " 22.30605413083299,\n",
       " 22.6873290850383,\n",
       " 23.06860403924361,\n",
       " 23.449878993449033,\n",
       " 23.831153947654343,\n",
       " 24.212428901859653]"
      ]
     },
     "execution_count": 21,
     "metadata": {},
     "output_type": "execute_result"
    }
   ],
   "source": [
    "# make predictions for next 13 years\n",
    "price = []\n",
    "\n",
    "for i in range(2018, 2031):\n",
    "    e = model3.predict([[i]])\n",
    "    price.append(float(e))\n",
    "    \n",
    "price"
   ]
  },
  {
   "cell_type": "code",
   "execution_count": 22,
   "metadata": {},
   "outputs": [
    {
     "data": {
      "text/plain": [
       "<matplotlib.collections.PathCollection at 0x1a2ccef690>"
      ]
     },
     "execution_count": 22,
     "metadata": {},
     "output_type": "execute_result"
    },
    {
     "data": {
      "image/png": "[encoded data removed]",
      "text/plain": [
       "<Figure size 432x288 with 1 Axes>"
      ]
     },
     "metadata": {
      "needs_background": "light"
     },
     "output_type": "display_data"
    }
   ],
   "source": [
    "# # make prediction for total consumption\n",
    "\n",
    "X4 = us_df[\"Year\"].values.reshape(-1,1)\n",
    "y4 = us_df[\"Total Consumed(Billion Btu)\"].values.reshape(-1,1)\n",
    "plt.scatter(X4,y4)"
   ]
  },
  {
   "cell_type": "code",
   "execution_count": 23,
   "metadata": {},
   "outputs": [
    {
     "name": "stdout",
     "output_type": "stream",
     "text": [
      "MSE: 7767957216743736.0, R2: -85.58293848139327\n"
     ]
    }
   ],
   "source": [
    "# Use train_test_split to create training and testing data\n",
    "from sklearn.model_selection import train_test_split\n",
    "\n",
    "X4_train, X4_test, y4_train, y4_test = train_test_split(X4, y4, random_state=42)\n",
    "\n",
    "# create the linear regression model\n",
    "from sklearn.linear_model import LinearRegression\n",
    "model4 = LinearRegression()\n",
    "model4.fit(X4_train, y4_train)\n",
    "\n",
    "#make predictiions and display r2\n",
    "\n",
    "from sklearn.metrics import mean_squared_error\n",
    "\n",
    "predictions4 = model4.predict(X4_test)\n",
    "MSE4 = mean_squared_error(y4_test, predictions3)\n",
    "r2 = model3.score(X4_test, y4_test)\n",
    "\n",
    "print(f\"MSE: {MSE4}, R2: {r2}\")\n"
   ]
  },
  {
   "cell_type": "code",
   "execution_count": 24,
   "metadata": {},
   "outputs": [
    {
     "data": {
      "text/plain": [
       "[103921101.89990354,\n",
       " 104623189.34966922,\n",
       " 105325276.79943466,\n",
       " 106027364.24920034,\n",
       " 106729451.69896603,\n",
       " 107431539.14873147,\n",
       " 108133626.59849715,\n",
       " 108835714.04826283,\n",
       " 109537801.49802828,\n",
       " 110239888.94779396,\n",
       " 110941976.3975594,\n",
       " 111644063.84732509,\n",
       " 112346151.29709077]"
      ]
     },
     "execution_count": 24,
     "metadata": {},
     "output_type": "execute_result"
    }
   ],
   "source": [
    "# make predictions for next 13 years\n",
    "total_consumed = []\n",
    "\n",
    "for i in range(2018, 2031):\n",
    "    e = model4.predict([[i]])\n",
    "    total_consumed.append(float(e))\n",
    "    \n",
    "total_consumed"
   ]
  },
  {
   "cell_type": "code",
   "execution_count": 26,
   "metadata": {},
   "outputs": [
    {
     "data": {
      "text/plain": [
       "[-95061269.94610178,\n",
       " -94957807.81525326,\n",
       " -96261331.65130842,\n",
       " -96861362.50391173,\n",
       " -97461393.35651505,\n",
       " -98061424.20911825,\n",
       " -98661455.06172156,\n",
       " -99261485.91432488,\n",
       " -99861516.76692796,\n",
       " -100461547.61953151,\n",
       " -101061578.47213471,\n",
       " -101661609.32473814,\n",
       " -102261640.17734122]"
      ]
     },
     "execution_count": 26,
     "metadata": {},
     "output_type": "execute_result"
    }
   ],
   "source": [
    "# now make predictions for energy difference values\n",
    "difference = []\n",
    "\n",
    "list1 = [[2018,8859831.953801751,328837.9581328193,19.63712945139548], \n",
    "             [2019, 8961888.550964028,328837.9581328193,20.018404405600904],\n",
    "             [2020,9063945.148126304,334174.22194107156,20.399679359806214],\n",
    "             [2021,9166001.74528858,336842.3538451977,20.780954314011524],\n",
    "             [2022,9268058.342450887,339510.48574932385,21.162229268216947],\n",
    "             [2023,9370114.939613163,342178.61765345,21.543504222422257],\n",
    "             [2024,9472171.53677544,344846.74955757614,21.924779176627567],\n",
    "             [2025,9574228.133937716,347514.8814617023,22.30605413083299],\n",
    "             [2026,9676284.731100023,350183.01336582843,22.6873290850383],\n",
    "             [2027,9778341.3282623,352851.1452699546,23.06860403924361],\n",
    "             [2028,9880397.925424576,355519.2771740807,23.449878993449033],\n",
    "             [2029,9982454.522586852,358187.40907820687,23.831153947654343],\n",
    "             [2030,10084511.119749159, 360855.540982333,24.212428901859653]] \n",
    " \n",
    "for i in list1:\n",
    "    p = model.predict([i])\n",
    "    difference.append(float(p))\n",
    "    \n",
    "difference "
   ]
  },
  {
   "cell_type": "code",
   "execution_count": 27,
   "metadata": {},
   "outputs": [
    {
     "data": {
      "text/html": [
       "<div>\n",
       "<style scoped>\n",
       "    .dataframe tbody tr th:only-of-type {\n",
       "        vertical-align: middle;\n",
       "    }\n",
       "\n",
       "    .dataframe tbody tr th {\n",
       "        vertical-align: top;\n",
       "    }\n",
       "\n",
       "    .dataframe thead th {\n",
       "        text-align: right;\n",
       "    }\n",
       "</style>\n",
       "<table border=\"1\" class=\"dataframe\">\n",
       "  <thead>\n",
       "    <tr style=\"text-align: right;\">\n",
       "      <th></th>\n",
       "      <th>Year</th>\n",
       "      <th>Produced Renewable(Billion Btu)</th>\n",
       "      <th>Total Consumed(Billion Btu)</th>\n",
       "      <th>Population(Thousand)</th>\n",
       "      <th>Energy Price(dollars in million btu)</th>\n",
       "      <th>Difference</th>\n",
       "    </tr>\n",
       "  </thead>\n",
       "  <tbody>\n",
       "    <tr>\n",
       "      <th>0</th>\n",
       "      <td>2018</td>\n",
       "      <td>8.859832e+06</td>\n",
       "      <td>1.039211e+08</td>\n",
       "      <td>328837.958133</td>\n",
       "      <td>19.637129</td>\n",
       "      <td>-9.506127e+07</td>\n",
       "    </tr>\n",
       "    <tr>\n",
       "      <th>1</th>\n",
       "      <td>2019</td>\n",
       "      <td>8.961889e+06</td>\n",
       "      <td>1.046232e+08</td>\n",
       "      <td>331506.090037</td>\n",
       "      <td>20.018404</td>\n",
       "      <td>-9.495781e+07</td>\n",
       "    </tr>\n",
       "    <tr>\n",
       "      <th>2</th>\n",
       "      <td>2020</td>\n",
       "      <td>9.063945e+06</td>\n",
       "      <td>1.053253e+08</td>\n",
       "      <td>334174.221941</td>\n",
       "      <td>20.399679</td>\n",
       "      <td>-9.626133e+07</td>\n",
       "    </tr>\n",
       "    <tr>\n",
       "      <th>3</th>\n",
       "      <td>2021</td>\n",
       "      <td>9.166002e+06</td>\n",
       "      <td>1.060274e+08</td>\n",
       "      <td>336842.353845</td>\n",
       "      <td>20.780954</td>\n",
       "      <td>-9.686136e+07</td>\n",
       "    </tr>\n",
       "    <tr>\n",
       "      <th>4</th>\n",
       "      <td>2022</td>\n",
       "      <td>9.268058e+06</td>\n",
       "      <td>1.067295e+08</td>\n",
       "      <td>339510.485749</td>\n",
       "      <td>21.162229</td>\n",
       "      <td>-9.746139e+07</td>\n",
       "    </tr>\n",
       "    <tr>\n",
       "      <th>5</th>\n",
       "      <td>2023</td>\n",
       "      <td>9.370115e+06</td>\n",
       "      <td>1.074315e+08</td>\n",
       "      <td>342178.617653</td>\n",
       "      <td>21.543504</td>\n",
       "      <td>-9.806142e+07</td>\n",
       "    </tr>\n",
       "    <tr>\n",
       "      <th>6</th>\n",
       "      <td>2024</td>\n",
       "      <td>9.472172e+06</td>\n",
       "      <td>1.081336e+08</td>\n",
       "      <td>344846.749558</td>\n",
       "      <td>21.924779</td>\n",
       "      <td>-9.866146e+07</td>\n",
       "    </tr>\n",
       "    <tr>\n",
       "      <th>7</th>\n",
       "      <td>2025</td>\n",
       "      <td>9.574228e+06</td>\n",
       "      <td>1.088357e+08</td>\n",
       "      <td>347514.881462</td>\n",
       "      <td>22.306054</td>\n",
       "      <td>-9.926149e+07</td>\n",
       "    </tr>\n",
       "    <tr>\n",
       "      <th>8</th>\n",
       "      <td>2026</td>\n",
       "      <td>9.676285e+06</td>\n",
       "      <td>1.095378e+08</td>\n",
       "      <td>350183.013366</td>\n",
       "      <td>22.687329</td>\n",
       "      <td>-9.986152e+07</td>\n",
       "    </tr>\n",
       "    <tr>\n",
       "      <th>9</th>\n",
       "      <td>2027</td>\n",
       "      <td>9.778341e+06</td>\n",
       "      <td>1.102399e+08</td>\n",
       "      <td>352851.145270</td>\n",
       "      <td>23.068604</td>\n",
       "      <td>-1.004615e+08</td>\n",
       "    </tr>\n",
       "    <tr>\n",
       "      <th>10</th>\n",
       "      <td>2028</td>\n",
       "      <td>9.880398e+06</td>\n",
       "      <td>1.109420e+08</td>\n",
       "      <td>355519.277174</td>\n",
       "      <td>23.449879</td>\n",
       "      <td>-1.010616e+08</td>\n",
       "    </tr>\n",
       "    <tr>\n",
       "      <th>11</th>\n",
       "      <td>2029</td>\n",
       "      <td>9.982455e+06</td>\n",
       "      <td>1.116441e+08</td>\n",
       "      <td>358187.409078</td>\n",
       "      <td>23.831154</td>\n",
       "      <td>-1.016616e+08</td>\n",
       "    </tr>\n",
       "    <tr>\n",
       "      <th>12</th>\n",
       "      <td>2030</td>\n",
       "      <td>1.008451e+07</td>\n",
       "      <td>1.123462e+08</td>\n",
       "      <td>360855.540982</td>\n",
       "      <td>24.212429</td>\n",
       "      <td>-1.022616e+08</td>\n",
       "    </tr>\n",
       "  </tbody>\n",
       "</table>\n",
       "</div>"
      ],
      "text/plain": [
       "    Year  Produced Renewable(Billion Btu)  Total Consumed(Billion Btu)  \\\n",
       "0   2018                     8.859832e+06                 1.039211e+08   \n",
       "1   2019                     8.961889e+06                 1.046232e+08   \n",
       "2   2020                     9.063945e+06                 1.053253e+08   \n",
       "3   2021                     9.166002e+06                 1.060274e+08   \n",
       "4   2022                     9.268058e+06                 1.067295e+08   \n",
       "5   2023                     9.370115e+06                 1.074315e+08   \n",
       "6   2024                     9.472172e+06                 1.081336e+08   \n",
       "7   2025                     9.574228e+06                 1.088357e+08   \n",
       "8   2026                     9.676285e+06                 1.095378e+08   \n",
       "9   2027                     9.778341e+06                 1.102399e+08   \n",
       "10  2028                     9.880398e+06                 1.109420e+08   \n",
       "11  2029                     9.982455e+06                 1.116441e+08   \n",
       "12  2030                     1.008451e+07                 1.123462e+08   \n",
       "\n",
       "    Population(Thousand)  Energy Price(dollars in million btu)    Difference  \n",
       "0          328837.958133                             19.637129 -9.506127e+07  \n",
       "1          331506.090037                             20.018404 -9.495781e+07  \n",
       "2          334174.221941                             20.399679 -9.626133e+07  \n",
       "3          336842.353845                             20.780954 -9.686136e+07  \n",
       "4          339510.485749                             21.162229 -9.746139e+07  \n",
       "5          342178.617653                             21.543504 -9.806142e+07  \n",
       "6          344846.749558                             21.924779 -9.866146e+07  \n",
       "7          347514.881462                             22.306054 -9.926149e+07  \n",
       "8          350183.013366                             22.687329 -9.986152e+07  \n",
       "9          352851.145270                             23.068604 -1.004615e+08  \n",
       "10         355519.277174                             23.449879 -1.010616e+08  \n",
       "11         358187.409078                             23.831154 -1.016616e+08  \n",
       "12         360855.540982                             24.212429 -1.022616e+08  "
      ]
     },
     "execution_count": 27,
     "metadata": {},
     "output_type": "execute_result"
    }
   ],
   "source": [
    "# create a dictionary that hold predicted values\n",
    "prediction_dict = {\n",
    "    \"Year\":[2018, 2019, 2020, 2021, 2022, 2023, 2024, 2025, 2026, 2027, 2028, 2029, 2030],\n",
    "    \"Produced Renewable(Billion Btu)\": renewable,\n",
    "    \"Total Consumed(Billion Btu)\": total_consumed,\n",
    "    \"Population(Thousand)\": population,\n",
    "    \"Energy Price(dollars in million btu)\": price,\n",
    "    \"Difference\": difference\n",
    "}\n",
    "\n",
    "# create a dataframe \n",
    "prediction_df = pd.DataFrame(prediction_dict)\n",
    "prediction_df"
   ]
  },
  {
   "cell_type": "code",
   "execution_count": 28,
   "metadata": {},
   "outputs": [
    {
     "name": "stderr",
     "output_type": "stream",
     "text": [
      "/Users/nadiregokcehan/anaconda3/envs/pythondata/lib/python3.7/site-packages/ipykernel_launcher.py:3: FutureWarning: Sorting because non-concatenation axis is not aligned. A future version\n",
      "of pandas will change to not sort by default.\n",
      "\n",
      "To accept the future behavior, pass 'sort=False'.\n",
      "\n",
      "To retain the current behavior and silence the warning, pass 'sort=True'.\n",
      "\n",
      "  This is separate from the ipykernel package so we can avoid doing imports until\n"
     ]
    },
    {
     "data": {
      "text/html": [
       "<div>\n",
       "<style scoped>\n",
       "    .dataframe tbody tr th:only-of-type {\n",
       "        vertical-align: middle;\n",
       "    }\n",
       "\n",
       "    .dataframe tbody tr th {\n",
       "        vertical-align: top;\n",
       "    }\n",
       "\n",
       "    .dataframe thead th {\n",
       "        text-align: right;\n",
       "    }\n",
       "</style>\n",
       "<table border=\"1\" class=\"dataframe\">\n",
       "  <thead>\n",
       "    <tr style=\"text-align: right;\">\n",
       "      <th></th>\n",
       "      <th>Difference</th>\n",
       "      <th>Energy Price(dollars in million btu)</th>\n",
       "      <th>GDP(Million dollar)</th>\n",
       "      <th>Population(Thousand)</th>\n",
       "      <th>Produced Renewable(Billion Btu)</th>\n",
       "      <th>Total Consumed(Billion Btu)</th>\n",
       "      <th>Unnamed: 0</th>\n",
       "      <th>Year</th>\n",
       "    </tr>\n",
       "  </thead>\n",
       "  <tbody>\n",
       "    <tr>\n",
       "      <th>0</th>\n",
       "      <td>-63650093.0</td>\n",
       "      <td>1.6</td>\n",
       "      <td>0.0</td>\n",
       "      <td>205052.0</td>\n",
       "      <td>4070021.0</td>\n",
       "      <td>67720114.0</td>\n",
       "      <td>0.0</td>\n",
       "      <td>1970</td>\n",
       "    </tr>\n",
       "    <tr>\n",
       "      <th>1</th>\n",
       "      <td>-64901781.0</td>\n",
       "      <td>1.8</td>\n",
       "      <td>0.0</td>\n",
       "      <td>207661.0</td>\n",
       "      <td>4262212.0</td>\n",
       "      <td>69163993.0</td>\n",
       "      <td>1.0</td>\n",
       "      <td>1971</td>\n",
       "    </tr>\n",
       "    <tr>\n",
       "      <th>2</th>\n",
       "      <td>-68295199.0</td>\n",
       "      <td>1.8</td>\n",
       "      <td>0.0</td>\n",
       "      <td>209896.0</td>\n",
       "      <td>4382009.0</td>\n",
       "      <td>72677208.0</td>\n",
       "      <td>2.0</td>\n",
       "      <td>1972</td>\n",
       "    </tr>\n",
       "    <tr>\n",
       "      <th>3</th>\n",
       "      <td>-71312919.0</td>\n",
       "      <td>2.0</td>\n",
       "      <td>0.0</td>\n",
       "      <td>211909.0</td>\n",
       "      <td>4410938.0</td>\n",
       "      <td>75723857.0</td>\n",
       "      <td>3.0</td>\n",
       "      <td>1973</td>\n",
       "    </tr>\n",
       "    <tr>\n",
       "      <th>4</th>\n",
       "      <td>-69172674.0</td>\n",
       "      <td>2.9</td>\n",
       "      <td>0.0</td>\n",
       "      <td>213854.0</td>\n",
       "      <td>4741851.0</td>\n",
       "      <td>73914525.0</td>\n",
       "      <td>4.0</td>\n",
       "      <td>1974</td>\n",
       "    </tr>\n",
       "    <tr>\n",
       "      <th>...</th>\n",
       "      <td>...</td>\n",
       "      <td>...</td>\n",
       "      <td>...</td>\n",
       "      <td>...</td>\n",
       "      <td>...</td>\n",
       "      <td>...</td>\n",
       "      <td>...</td>\n",
       "      <td>...</td>\n",
       "    </tr>\n",
       "    <tr>\n",
       "      <th>56</th>\n",
       "      <td>-99861516.8</td>\n",
       "      <td>22.7</td>\n",
       "      <td>nan</td>\n",
       "      <td>350183.0</td>\n",
       "      <td>9676284.7</td>\n",
       "      <td>109537801.5</td>\n",
       "      <td>nan</td>\n",
       "      <td>2026</td>\n",
       "    </tr>\n",
       "    <tr>\n",
       "      <th>57</th>\n",
       "      <td>-100461547.6</td>\n",
       "      <td>23.1</td>\n",
       "      <td>nan</td>\n",
       "      <td>352851.1</td>\n",
       "      <td>9778341.3</td>\n",
       "      <td>110239888.9</td>\n",
       "      <td>nan</td>\n",
       "      <td>2027</td>\n",
       "    </tr>\n",
       "    <tr>\n",
       "      <th>58</th>\n",
       "      <td>-101061578.5</td>\n",
       "      <td>23.4</td>\n",
       "      <td>nan</td>\n",
       "      <td>355519.3</td>\n",
       "      <td>9880397.9</td>\n",
       "      <td>110941976.4</td>\n",
       "      <td>nan</td>\n",
       "      <td>2028</td>\n",
       "    </tr>\n",
       "    <tr>\n",
       "      <th>59</th>\n",
       "      <td>-101661609.3</td>\n",
       "      <td>23.8</td>\n",
       "      <td>nan</td>\n",
       "      <td>358187.4</td>\n",
       "      <td>9982454.5</td>\n",
       "      <td>111644063.8</td>\n",
       "      <td>nan</td>\n",
       "      <td>2029</td>\n",
       "    </tr>\n",
       "    <tr>\n",
       "      <th>60</th>\n",
       "      <td>-102261640.2</td>\n",
       "      <td>24.2</td>\n",
       "      <td>nan</td>\n",
       "      <td>360855.5</td>\n",
       "      <td>10084511.1</td>\n",
       "      <td>112346151.3</td>\n",
       "      <td>nan</td>\n",
       "      <td>2030</td>\n",
       "    </tr>\n",
       "  </tbody>\n",
       "</table>\n",
       "<p>61 rows × 8 columns</p>\n",
       "</div>"
      ],
      "text/plain": [
       "     Difference  Energy Price(dollars in million btu)  GDP(Million dollar)  \\\n",
       "0   -63650093.0                                   1.6                  0.0   \n",
       "1   -64901781.0                                   1.8                  0.0   \n",
       "2   -68295199.0                                   1.8                  0.0   \n",
       "3   -71312919.0                                   2.0                  0.0   \n",
       "4   -69172674.0                                   2.9                  0.0   \n",
       "..          ...                                   ...                  ...   \n",
       "56  -99861516.8                                  22.7                  nan   \n",
       "57 -100461547.6                                  23.1                  nan   \n",
       "58 -101061578.5                                  23.4                  nan   \n",
       "59 -101661609.3                                  23.8                  nan   \n",
       "60 -102261640.2                                  24.2                  nan   \n",
       "\n",
       "    Population(Thousand)  Produced Renewable(Billion Btu)  \\\n",
       "0               205052.0                        4070021.0   \n",
       "1               207661.0                        4262212.0   \n",
       "2               209896.0                        4382009.0   \n",
       "3               211909.0                        4410938.0   \n",
       "4               213854.0                        4741851.0   \n",
       "..                   ...                              ...   \n",
       "56              350183.0                        9676284.7   \n",
       "57              352851.1                        9778341.3   \n",
       "58              355519.3                        9880397.9   \n",
       "59              358187.4                        9982454.5   \n",
       "60              360855.5                       10084511.1   \n",
       "\n",
       "    Total Consumed(Billion Btu)  Unnamed: 0  Year  \n",
       "0                    67720114.0         0.0  1970  \n",
       "1                    69163993.0         1.0  1971  \n",
       "2                    72677208.0         2.0  1972  \n",
       "3                    75723857.0         3.0  1973  \n",
       "4                    73914525.0         4.0  1974  \n",
       "..                          ...         ...   ...  \n",
       "56                  109537801.5         nan  2026  \n",
       "57                  110239888.9         nan  2027  \n",
       "58                  110941976.4         nan  2028  \n",
       "59                  111644063.8         nan  2029  \n",
       "60                  112346151.3         nan  2030  \n",
       "\n",
       "[61 rows x 8 columns]"
      ]
     },
     "execution_count": 28,
     "metadata": {},
     "output_type": "execute_result"
    }
   ],
   "source": [
    "# combine this prediction data frame with the original dataframe\n",
    "dataframes = [us_df, prediction_df]\n",
    "combined_df = pd.concat(dataframes, ignore_index=True)\n",
    "pd.options.display.float_format = '{:.1f}'.format\n",
    "combined_df"
   ]
  },
  {
   "cell_type": "code",
   "execution_count": 29,
   "metadata": {},
   "outputs": [
    {
     "data": {
      "text/html": [
       "<div>\n",
       "<style scoped>\n",
       "    .dataframe tbody tr th:only-of-type {\n",
       "        vertical-align: middle;\n",
       "    }\n",
       "\n",
       "    .dataframe tbody tr th {\n",
       "        vertical-align: top;\n",
       "    }\n",
       "\n",
       "    .dataframe thead th {\n",
       "        text-align: right;\n",
       "    }\n",
       "</style>\n",
       "<table border=\"1\" class=\"dataframe\">\n",
       "  <thead>\n",
       "    <tr style=\"text-align: right;\">\n",
       "      <th></th>\n",
       "      <th>Difference</th>\n",
       "      <th>Energy Price(dollars in million btu)</th>\n",
       "      <th>GDP(Million dollar)</th>\n",
       "      <th>Population(Thousand)</th>\n",
       "      <th>Produced Renewable(Billion Btu)</th>\n",
       "      <th>Total Consumed(Billion Btu)</th>\n",
       "      <th>Year</th>\n",
       "    </tr>\n",
       "  </thead>\n",
       "  <tbody>\n",
       "    <tr>\n",
       "      <th>0</th>\n",
       "      <td>-63650093.0</td>\n",
       "      <td>1.6</td>\n",
       "      <td>0.0</td>\n",
       "      <td>205052.0</td>\n",
       "      <td>4070021.0</td>\n",
       "      <td>67720114.0</td>\n",
       "      <td>1970</td>\n",
       "    </tr>\n",
       "    <tr>\n",
       "      <th>1</th>\n",
       "      <td>-64901781.0</td>\n",
       "      <td>1.8</td>\n",
       "      <td>0.0</td>\n",
       "      <td>207661.0</td>\n",
       "      <td>4262212.0</td>\n",
       "      <td>69163993.0</td>\n",
       "      <td>1971</td>\n",
       "    </tr>\n",
       "    <tr>\n",
       "      <th>2</th>\n",
       "      <td>-68295199.0</td>\n",
       "      <td>1.8</td>\n",
       "      <td>0.0</td>\n",
       "      <td>209896.0</td>\n",
       "      <td>4382009.0</td>\n",
       "      <td>72677208.0</td>\n",
       "      <td>1972</td>\n",
       "    </tr>\n",
       "    <tr>\n",
       "      <th>3</th>\n",
       "      <td>-71312919.0</td>\n",
       "      <td>2.0</td>\n",
       "      <td>0.0</td>\n",
       "      <td>211909.0</td>\n",
       "      <td>4410938.0</td>\n",
       "      <td>75723857.0</td>\n",
       "      <td>1973</td>\n",
       "    </tr>\n",
       "    <tr>\n",
       "      <th>4</th>\n",
       "      <td>-69172674.0</td>\n",
       "      <td>2.9</td>\n",
       "      <td>0.0</td>\n",
       "      <td>213854.0</td>\n",
       "      <td>4741851.0</td>\n",
       "      <td>73914525.0</td>\n",
       "      <td>1974</td>\n",
       "    </tr>\n",
       "    <tr>\n",
       "      <th>...</th>\n",
       "      <td>...</td>\n",
       "      <td>...</td>\n",
       "      <td>...</td>\n",
       "      <td>...</td>\n",
       "      <td>...</td>\n",
       "      <td>...</td>\n",
       "      <td>...</td>\n",
       "    </tr>\n",
       "    <tr>\n",
       "      <th>56</th>\n",
       "      <td>-99861516.8</td>\n",
       "      <td>22.7</td>\n",
       "      <td>nan</td>\n",
       "      <td>350183.0</td>\n",
       "      <td>9676284.7</td>\n",
       "      <td>109537801.5</td>\n",
       "      <td>2026</td>\n",
       "    </tr>\n",
       "    <tr>\n",
       "      <th>57</th>\n",
       "      <td>-100461547.6</td>\n",
       "      <td>23.1</td>\n",
       "      <td>nan</td>\n",
       "      <td>352851.1</td>\n",
       "      <td>9778341.3</td>\n",
       "      <td>110239888.9</td>\n",
       "      <td>2027</td>\n",
       "    </tr>\n",
       "    <tr>\n",
       "      <th>58</th>\n",
       "      <td>-101061578.5</td>\n",
       "      <td>23.4</td>\n",
       "      <td>nan</td>\n",
       "      <td>355519.3</td>\n",
       "      <td>9880397.9</td>\n",
       "      <td>110941976.4</td>\n",
       "      <td>2028</td>\n",
       "    </tr>\n",
       "    <tr>\n",
       "      <th>59</th>\n",
       "      <td>-101661609.3</td>\n",
       "      <td>23.8</td>\n",
       "      <td>nan</td>\n",
       "      <td>358187.4</td>\n",
       "      <td>9982454.5</td>\n",
       "      <td>111644063.8</td>\n",
       "      <td>2029</td>\n",
       "    </tr>\n",
       "    <tr>\n",
       "      <th>60</th>\n",
       "      <td>-102261640.2</td>\n",
       "      <td>24.2</td>\n",
       "      <td>nan</td>\n",
       "      <td>360855.5</td>\n",
       "      <td>10084511.1</td>\n",
       "      <td>112346151.3</td>\n",
       "      <td>2030</td>\n",
       "    </tr>\n",
       "  </tbody>\n",
       "</table>\n",
       "<p>61 rows × 7 columns</p>\n",
       "</div>"
      ],
      "text/plain": [
       "     Difference  Energy Price(dollars in million btu)  GDP(Million dollar)  \\\n",
       "0   -63650093.0                                   1.6                  0.0   \n",
       "1   -64901781.0                                   1.8                  0.0   \n",
       "2   -68295199.0                                   1.8                  0.0   \n",
       "3   -71312919.0                                   2.0                  0.0   \n",
       "4   -69172674.0                                   2.9                  0.0   \n",
       "..          ...                                   ...                  ...   \n",
       "56  -99861516.8                                  22.7                  nan   \n",
       "57 -100461547.6                                  23.1                  nan   \n",
       "58 -101061578.5                                  23.4                  nan   \n",
       "59 -101661609.3                                  23.8                  nan   \n",
       "60 -102261640.2                                  24.2                  nan   \n",
       "\n",
       "    Population(Thousand)  Produced Renewable(Billion Btu)  \\\n",
       "0               205052.0                        4070021.0   \n",
       "1               207661.0                        4262212.0   \n",
       "2               209896.0                        4382009.0   \n",
       "3               211909.0                        4410938.0   \n",
       "4               213854.0                        4741851.0   \n",
       "..                   ...                              ...   \n",
       "56              350183.0                        9676284.7   \n",
       "57              352851.1                        9778341.3   \n",
       "58              355519.3                        9880397.9   \n",
       "59              358187.4                        9982454.5   \n",
       "60              360855.5                       10084511.1   \n",
       "\n",
       "    Total Consumed(Billion Btu)  Year  \n",
       "0                    67720114.0  1970  \n",
       "1                    69163993.0  1971  \n",
       "2                    72677208.0  1972  \n",
       "3                    75723857.0  1973  \n",
       "4                    73914525.0  1974  \n",
       "..                          ...   ...  \n",
       "56                  109537801.5  2026  \n",
       "57                  110239888.9  2027  \n",
       "58                  110941976.4  2028  \n",
       "59                  111644063.8  2029  \n",
       "60                  112346151.3  2030  \n",
       "\n",
       "[61 rows x 7 columns]"
      ]
     },
     "execution_count": 29,
     "metadata": {},
     "output_type": "execute_result"
    }
   ],
   "source": [
    "# drop the unnamed column\n",
    "del combined_df[\"Unnamed: 0\"]\n",
    "combined_df"
   ]
  },
  {
   "cell_type": "code",
   "execution_count": 35,
   "metadata": {},
   "outputs": [
    {
     "data": {
      "text/html": [
       "<div>\n",
       "<style scoped>\n",
       "    .dataframe tbody tr th:only-of-type {\n",
       "        vertical-align: middle;\n",
       "    }\n",
       "\n",
       "    .dataframe tbody tr th {\n",
       "        vertical-align: top;\n",
       "    }\n",
       "\n",
       "    .dataframe thead th {\n",
       "        text-align: right;\n",
       "    }\n",
       "</style>\n",
       "<table border=\"1\" class=\"dataframe\">\n",
       "  <thead>\n",
       "    <tr style=\"text-align: right;\">\n",
       "      <th></th>\n",
       "      <th>Year</th>\n",
       "      <th>Produced Renewable(Billion Btu)</th>\n",
       "      <th>Total Consumed(Billion Btu)</th>\n",
       "      <th>GDP(Million dollar)</th>\n",
       "      <th>Population(Thousand)</th>\n",
       "      <th>Energy Price(dollars in million btu)</th>\n",
       "      <th>Difference</th>\n",
       "    </tr>\n",
       "  </thead>\n",
       "  <tbody>\n",
       "    <tr>\n",
       "      <th>0</th>\n",
       "      <td>1970</td>\n",
       "      <td>4070021.0</td>\n",
       "      <td>67720114.0</td>\n",
       "      <td>0.0</td>\n",
       "      <td>205052.0</td>\n",
       "      <td>1.6</td>\n",
       "      <td>-63650093.0</td>\n",
       "    </tr>\n",
       "    <tr>\n",
       "      <th>1</th>\n",
       "      <td>1971</td>\n",
       "      <td>4262212.0</td>\n",
       "      <td>69163993.0</td>\n",
       "      <td>0.0</td>\n",
       "      <td>207661.0</td>\n",
       "      <td>1.8</td>\n",
       "      <td>-64901781.0</td>\n",
       "    </tr>\n",
       "    <tr>\n",
       "      <th>2</th>\n",
       "      <td>1972</td>\n",
       "      <td>4382009.0</td>\n",
       "      <td>72677208.0</td>\n",
       "      <td>0.0</td>\n",
       "      <td>209896.0</td>\n",
       "      <td>1.8</td>\n",
       "      <td>-68295199.0</td>\n",
       "    </tr>\n",
       "    <tr>\n",
       "      <th>3</th>\n",
       "      <td>1973</td>\n",
       "      <td>4410938.0</td>\n",
       "      <td>75723857.0</td>\n",
       "      <td>0.0</td>\n",
       "      <td>211909.0</td>\n",
       "      <td>2.0</td>\n",
       "      <td>-71312919.0</td>\n",
       "    </tr>\n",
       "    <tr>\n",
       "      <th>4</th>\n",
       "      <td>1974</td>\n",
       "      <td>4741851.0</td>\n",
       "      <td>73914525.0</td>\n",
       "      <td>0.0</td>\n",
       "      <td>213854.0</td>\n",
       "      <td>2.9</td>\n",
       "      <td>-69172674.0</td>\n",
       "    </tr>\n",
       "    <tr>\n",
       "      <th>...</th>\n",
       "      <td>...</td>\n",
       "      <td>...</td>\n",
       "      <td>...</td>\n",
       "      <td>...</td>\n",
       "      <td>...</td>\n",
       "      <td>...</td>\n",
       "      <td>...</td>\n",
       "    </tr>\n",
       "    <tr>\n",
       "      <th>56</th>\n",
       "      <td>2026</td>\n",
       "      <td>9676284.7</td>\n",
       "      <td>109537801.5</td>\n",
       "      <td>nan</td>\n",
       "      <td>350183.0</td>\n",
       "      <td>22.7</td>\n",
       "      <td>-99861516.8</td>\n",
       "    </tr>\n",
       "    <tr>\n",
       "      <th>57</th>\n",
       "      <td>2027</td>\n",
       "      <td>9778341.3</td>\n",
       "      <td>110239888.9</td>\n",
       "      <td>nan</td>\n",
       "      <td>352851.1</td>\n",
       "      <td>23.1</td>\n",
       "      <td>-100461547.6</td>\n",
       "    </tr>\n",
       "    <tr>\n",
       "      <th>58</th>\n",
       "      <td>2028</td>\n",
       "      <td>9880397.9</td>\n",
       "      <td>110941976.4</td>\n",
       "      <td>nan</td>\n",
       "      <td>355519.3</td>\n",
       "      <td>23.4</td>\n",
       "      <td>-101061578.5</td>\n",
       "    </tr>\n",
       "    <tr>\n",
       "      <th>59</th>\n",
       "      <td>2029</td>\n",
       "      <td>9982454.5</td>\n",
       "      <td>111644063.8</td>\n",
       "      <td>nan</td>\n",
       "      <td>358187.4</td>\n",
       "      <td>23.8</td>\n",
       "      <td>-101661609.3</td>\n",
       "    </tr>\n",
       "    <tr>\n",
       "      <th>60</th>\n",
       "      <td>2030</td>\n",
       "      <td>10084511.1</td>\n",
       "      <td>112346151.3</td>\n",
       "      <td>nan</td>\n",
       "      <td>360855.5</td>\n",
       "      <td>24.2</td>\n",
       "      <td>-102261640.2</td>\n",
       "    </tr>\n",
       "  </tbody>\n",
       "</table>\n",
       "<p>61 rows × 7 columns</p>\n",
       "</div>"
      ],
      "text/plain": [
       "    Year  Produced Renewable(Billion Btu)  Total Consumed(Billion Btu)  \\\n",
       "0   1970                        4070021.0                   67720114.0   \n",
       "1   1971                        4262212.0                   69163993.0   \n",
       "2   1972                        4382009.0                   72677208.0   \n",
       "3   1973                        4410938.0                   75723857.0   \n",
       "4   1974                        4741851.0                   73914525.0   \n",
       "..   ...                              ...                          ...   \n",
       "56  2026                        9676284.7                  109537801.5   \n",
       "57  2027                        9778341.3                  110239888.9   \n",
       "58  2028                        9880397.9                  110941976.4   \n",
       "59  2029                        9982454.5                  111644063.8   \n",
       "60  2030                       10084511.1                  112346151.3   \n",
       "\n",
       "    GDP(Million dollar)  Population(Thousand)  \\\n",
       "0                   0.0              205052.0   \n",
       "1                   0.0              207661.0   \n",
       "2                   0.0              209896.0   \n",
       "3                   0.0              211909.0   \n",
       "4                   0.0              213854.0   \n",
       "..                  ...                   ...   \n",
       "56                  nan              350183.0   \n",
       "57                  nan              352851.1   \n",
       "58                  nan              355519.3   \n",
       "59                  nan              358187.4   \n",
       "60                  nan              360855.5   \n",
       "\n",
       "    Energy Price(dollars in million btu)   Difference  \n",
       "0                                    1.6  -63650093.0  \n",
       "1                                    1.8  -64901781.0  \n",
       "2                                    1.8  -68295199.0  \n",
       "3                                    2.0  -71312919.0  \n",
       "4                                    2.9  -69172674.0  \n",
       "..                                   ...          ...  \n",
       "56                                  22.7  -99861516.8  \n",
       "57                                  23.1 -100461547.6  \n",
       "58                                  23.4 -101061578.5  \n",
       "59                                  23.8 -101661609.3  \n",
       "60                                  24.2 -102261640.2  \n",
       "\n",
       "[61 rows x 7 columns]"
      ]
     },
     "execution_count": 35,
     "metadata": {},
     "output_type": "execute_result"
    }
   ],
   "source": [
    "# select the columns to reorder\n",
    "combined_df = combined_df[[\"Year\", \"Produced Renewable(Billion Btu)\", \"Total Consumed(Billion Btu)\", \n",
    "                           \"GDP(Million dollar)\", \"Population(Thousand)\", \"Energy Price(dollars in million btu)\",\n",
    "                           \"Difference\"]]\n",
    "combined_df"
   ]
  },
  {
   "cell_type": "code",
   "execution_count": 41,
   "metadata": {},
   "outputs": [
    {
     "data": {
      "text/plain": [
       "Text(0, 0.5, 'Difference in Billion Btu')"
      ]
     },
     "execution_count": 41,
     "metadata": {},
     "output_type": "execute_result"
    },
    {
     "data": {
      "image/png": "[encoded data removed]",
      "text/plain": [
       "<Figure size 432x288 with 1 Axes>"
      ]
     },
     "metadata": {
      "needs_background": "light"
     },
     "output_type": "display_data"
    }
   ],
   "source": [
    "# see the energy difference value change over the years\n",
    "\n",
    "plt.plot(combined_df[\"Year\"], combined_df[\"Difference\"], color=\"red\", markevery=10, marker=\"^\")\n",
    "plt.title(\"Energy Difference over the Years\")\n",
    "plt.ylabel(\"Difference in Billion Btu\")"
   ]
  },
  {
   "cell_type": "code",
   "execution_count": 42,
   "metadata": {},
   "outputs": [
    {
     "data": {
      "text/plain": [
       "Text(0, 0.5, 'Renewable Produuctiion(Billion Btu)')"
      ]
     },
     "execution_count": 42,
     "metadata": {},
     "output_type": "execute_result"
    },
    {
     "data": {
      "image/png": "[encoded data removed]",
      "text/plain": [
       "<Figure size 432x288 with 1 Axes>"
      ]
     },
     "metadata": {
      "needs_background": "light"
     },
     "output_type": "display_data"
    }
   ],
   "source": [
    "# see the renewable production change over the years\n",
    "\n",
    "plt.plot(combined_df[\"Year\"], combined_df[\"Produced Renewable(Billion Btu)\"], marker=\"s\",markevery = 10, color = \"green\")\n",
    "plt.title(\"Produced Renewable Energy over Years\")\n",
    "plt.ylabel(\"Renewable Produuctiion(Billion Btu)\")"
   ]
  },
  {
   "cell_type": "code",
   "execution_count": 43,
   "metadata": {},
   "outputs": [
    {
     "data": {
      "text/html": [
       "<div>\n",
       "<style scoped>\n",
       "    .dataframe tbody tr th:only-of-type {\n",
       "        vertical-align: middle;\n",
       "    }\n",
       "\n",
       "    .dataframe tbody tr th {\n",
       "        vertical-align: top;\n",
       "    }\n",
       "\n",
       "    .dataframe thead th {\n",
       "        text-align: right;\n",
       "    }\n",
       "</style>\n",
       "<table border=\"1\" class=\"dataframe\">\n",
       "  <thead>\n",
       "    <tr style=\"text-align: right;\">\n",
       "      <th></th>\n",
       "      <th>Year</th>\n",
       "      <th>Produced Renewable(Billion Btu)</th>\n",
       "      <th>Total Consumed(Billion Btu)</th>\n",
       "      <th>GDP(Million dollar)</th>\n",
       "      <th>Population(Thousand)</th>\n",
       "      <th>Energy Price(dollars in million btu)</th>\n",
       "      <th>Difference</th>\n",
       "    </tr>\n",
       "  </thead>\n",
       "  <tbody>\n",
       "    <tr>\n",
       "      <th>60</th>\n",
       "      <td>2030</td>\n",
       "      <td>10084511.1</td>\n",
       "      <td>112346151.3</td>\n",
       "      <td>nan</td>\n",
       "      <td>360855.5</td>\n",
       "      <td>24.2</td>\n",
       "      <td>-102261640.2</td>\n",
       "    </tr>\n",
       "  </tbody>\n",
       "</table>\n",
       "</div>"
      ],
      "text/plain": [
       "    Year  Produced Renewable(Billion Btu)  Total Consumed(Billion Btu)  \\\n",
       "60  2030                       10084511.1                  112346151.3   \n",
       "\n",
       "    GDP(Million dollar)  Population(Thousand)  \\\n",
       "60                  nan              360855.5   \n",
       "\n",
       "    Energy Price(dollars in million btu)   Difference  \n",
       "60                                  24.2 -102261640.2  "
      ]
     },
     "execution_count": 43,
     "metadata": {},
     "output_type": "execute_result"
    }
   ],
   "source": [
    "# print the predicted values for 2030\n",
    "combined_df.loc[combined_df[\"Year\"] == 2030]"
   ]
  },
  {
   "cell_type": "code",
   "execution_count": 44,
   "metadata": {},
   "outputs": [],
   "source": [
    "# save the final df to csv\n",
    "combined_df.to_csv(\"db/us_combined.csv\", float_format='%.1f')"
   ]
  },
  {
   "cell_type": "markdown",
   "metadata": {},
   "source": [
    "# Analysis\n",
    "\n",
    "* For Us data, deciding which features to use was the first step. The data was mostly linear, over the years (1970-2017) the features `Population`, `Energy Price`, `Renewable Production`, `GDP` numbers were increasing. \n",
    "* Since we didn't have GDP values before 1997 removing that column from the features impored our model's r2 score. We used 47 years historical data for US to predict `Energy Difference` values that is the difference between Renewable Production and Total Energy Consumption. \n",
    "* Using simple linear regression model we predicted features, Renewable Produuction, Average Energy Price and Population values for the future and used those predicted numbers to make prediction for Difference values. \n",
    "* Scaling our data didn't improve our r2 and MSE numbers and we didn't scale our data. \n",
    "* Finally we used miltiple-linear regression model to predict next 13 years Energy Difference values. \n"
   ]
  },
  {
   "cell_type": "code",
   "execution_count": null,
   "metadata": {},
   "outputs": [],
   "source": []
  }
 ],
 "metadata": {
  "kernelspec": {
   "display_name": "Python [conda env:pythondata] *",
   "language": "python",
   "name": "conda-env-pythondata-py"
  },
  "language_info": {
   "codemirror_mode": {
    "name": "ipython",
    "version": 3
   },
   "file_extension": ".py",
   "mimetype": "text/x-python",
   "name": "python",
   "nbconvert_exporter": "python",
   "pygments_lexer": "ipython3",
   "version": "3.7.4"
  }
 },
 "nbformat": 4,
 "nbformat_minor": 2
}
