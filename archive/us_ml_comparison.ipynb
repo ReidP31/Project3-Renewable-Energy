{
 "cells": [
  {
   "cell_type": "markdown",
   "metadata": {},
   "source": [
    "# ML for US Energy comparison - Linear Regression"
   ]
  },
  {
   "cell_type": "code",
   "execution_count": 1,
   "metadata": {},
   "outputs": [],
   "source": [
    "# import dependencies\n",
    "%matplotlib inline\n",
    "import matplotlib.pyplot as plt\n",
    "import pandas as pd\n",
    "import numpy as np\n",
    "import sklearn"
   ]
  },
  {
   "cell_type": "code",
   "execution_count": 2,
   "metadata": {},
   "outputs": [
    {
     "data": {
      "text/html": [
       "<div>\n",
       "<style scoped>\n",
       "    .dataframe tbody tr th:only-of-type {\n",
       "        vertical-align: middle;\n",
       "    }\n",
       "\n",
       "    .dataframe tbody tr th {\n",
       "        vertical-align: top;\n",
       "    }\n",
       "\n",
       "    .dataframe thead th {\n",
       "        text-align: right;\n",
       "    }\n",
       "</style>\n",
       "<table border=\"1\" class=\"dataframe\">\n",
       "  <thead>\n",
       "    <tr style=\"text-align: right;\">\n",
       "      <th></th>\n",
       "      <th>Year</th>\n",
       "      <th>Prod Data</th>\n",
       "      <th>Cons Data</th>\n",
       "      <th>Status</th>\n",
       "      <th>Comparison</th>\n",
       "    </tr>\n",
       "  </thead>\n",
       "  <tbody>\n",
       "    <tr>\n",
       "      <th>0</th>\n",
       "      <td>1960</td>\n",
       "      <td>2928205.0</td>\n",
       "      <td>45033606.0</td>\n",
       "      <td>0</td>\n",
       "      <td>-42105401.0</td>\n",
       "    </tr>\n",
       "    <tr>\n",
       "      <th>1</th>\n",
       "      <td>1961</td>\n",
       "      <td>2952227.0</td>\n",
       "      <td>45684153.0</td>\n",
       "      <td>0</td>\n",
       "      <td>-42731926.0</td>\n",
       "    </tr>\n",
       "    <tr>\n",
       "      <th>2</th>\n",
       "      <td>1962</td>\n",
       "      <td>3117444.0</td>\n",
       "      <td>47773067.0</td>\n",
       "      <td>0</td>\n",
       "      <td>-44655623.0</td>\n",
       "    </tr>\n",
       "    <tr>\n",
       "      <th>3</th>\n",
       "      <td>1963</td>\n",
       "      <td>3096431.0</td>\n",
       "      <td>49605630.0</td>\n",
       "      <td>0</td>\n",
       "      <td>-46509199.0</td>\n",
       "    </tr>\n",
       "    <tr>\n",
       "      <th>4</th>\n",
       "      <td>1964</td>\n",
       "      <td>3225249.0</td>\n",
       "      <td>51766732.0</td>\n",
       "      <td>0</td>\n",
       "      <td>-48541483.0</td>\n",
       "    </tr>\n",
       "  </tbody>\n",
       "</table>\n",
       "</div>"
      ],
      "text/plain": [
       "   Year  Prod Data   Cons Data  Status  Comparison\n",
       "0  1960  2928205.0  45033606.0       0 -42105401.0\n",
       "1  1961  2952227.0  45684153.0       0 -42731926.0\n",
       "2  1962  3117444.0  47773067.0       0 -44655623.0\n",
       "3  1963  3096431.0  49605630.0       0 -46509199.0\n",
       "4  1964  3225249.0  51766732.0       0 -48541483.0"
      ]
     },
     "execution_count": 2,
     "metadata": {},
     "output_type": "execute_result"
    }
   ],
   "source": [
    "# read the data\n",
    "df = pd.read_csv(\"db/us_comparison.csv\", index_col=0)\n",
    "df.head()"
   ]
  },
  {
   "cell_type": "code",
   "execution_count": 3,
   "metadata": {},
   "outputs": [
    {
     "name": "stdout",
     "output_type": "stream",
     "text": [
      "[[1960]\n",
      " [1961]\n",
      " [1962]\n",
      " [1963]\n",
      " [1964]]\n",
      "[[-42105401.]\n",
      " [-42731926.]\n",
      " [-44655623.]\n",
      " [-46509199.]\n",
      " [-48541483.]]\n"
     ]
    }
   ],
   "source": [
    "# Get the X and y values\n",
    "X = df[\"Year\"].values.reshape(-1,1)\n",
    "y = df[\"Comparison\"].values.reshape(-1,1)\n",
    "# print the first 5 year values\n",
    "print(X[:5])\n",
    "print(y[:5])"
   ]
  },
  {
   "cell_type": "code",
   "execution_count": 4,
   "metadata": {},
   "outputs": [
    {
     "data": {
      "text/plain": [
       "Text(0.5, 1.0, 'Difference')"
      ]
     },
     "execution_count": 4,
     "metadata": {},
     "output_type": "execute_result"
    },
    {
     "data": {
      "image/png": "[encoded data removed]",
      "text/plain": [
       "<Figure size 432x288 with 1 Axes>"
      ]
     },
     "metadata": {
      "needs_background": "light"
     },
     "output_type": "display_data"
    }
   ],
   "source": [
    "# plot the data\n",
    "plt.scatter(X,y)\n",
    "plt.ylabel(\"Difference(Renewable-Consumption)(BTU)\")\n",
    "plt.xlabel(\"Year\")\n",
    "plt.title(\"Difference\")"
   ]
  },
  {
   "cell_type": "code",
   "execution_count": 5,
   "metadata": {},
   "outputs": [],
   "source": [
    "# split the data to train data and test data\n",
    "from sklearn.model_selection import train_test_split\n",
    "X_train, X_test, y_train, y_test = train_test_split(X, y, random_state=42)"
   ]
  },
  {
   "cell_type": "code",
   "execution_count": 6,
   "metadata": {},
   "outputs": [
    {
     "data": {
      "text/plain": [
       "LinearRegression(copy_X=True, fit_intercept=True, n_jobs=None, normalize=False)"
      ]
     },
     "execution_count": 6,
     "metadata": {},
     "output_type": "execute_result"
    }
   ],
   "source": [
    "# Create a LinearRegression model and fit it to the scaled training data\n",
    "\n",
    "from sklearn.linear_model import LinearRegression\n",
    "model = LinearRegression()\n",
    "model.fit(X_train, y_train)"
   ]
  },
  {
   "cell_type": "code",
   "execution_count": 7,
   "metadata": {},
   "outputs": [
    {
     "name": "stdout",
     "output_type": "stream",
     "text": [
      "Training Score: 0.8248290272730225\n",
      "Testing Score: 0.8619450194134748\n"
     ]
    }
   ],
   "source": [
    "# calculate the scores\n",
    "\n",
    "training_score = model.score(X_train, y_train)\n",
    "testing_score = model.score(X_test, y_test)\n",
    "\n",
    "print(f\"Training Score: {training_score}\")\n",
    "print(f\"Testing Score: {testing_score}\")"
   ]
  },
  {
   "cell_type": "code",
   "execution_count": 8,
   "metadata": {},
   "outputs": [],
   "source": [
    "# Use our model to make predictions\n",
    "from sklearn.metrics import mean_squared_error, r2_score\n",
    "\n",
    "\n",
    "predicted = model.predict(X_test)\n"
   ]
  },
  {
   "cell_type": "code",
   "execution_count": 9,
   "metadata": {},
   "outputs": [
    {
     "name": "stdout",
     "output_type": "stream",
     "text": [
      "Mean Squared Error (MSE)for Difference : 39234664115092.9\n",
      "R-squared (R2 )for Difference: 0.8619450194134748\n"
     ]
    }
   ],
   "source": [
    "# Score the predictions with mse and r2\n",
    "mse = mean_squared_error(y_test, predicted)\n",
    "r2 = r2_score(y_test, predicted)\n",
    "\n",
    "print(f\"Mean Squared Error (MSE)for Difference : {mse}\")\n",
    "print(f\"R-squared (R2 )for Difference: {r2}\")\n"
   ]
  },
  {
   "cell_type": "code",
   "execution_count": 10,
   "metadata": {},
   "outputs": [],
   "source": [
    "predictions = model.predict(X_test[:5])"
   ]
  },
  {
   "cell_type": "code",
   "execution_count": 11,
   "metadata": {},
   "outputs": [
    {
     "name": "stdout",
     "output_type": "stream",
     "text": [
      "Predicted classes for Energy Difference: [[-54133537.57435298]\n",
      " [-57884632.00367308]\n",
      " [-79640979.69373035]\n",
      " [-63886383.09058547]\n",
      " [-87143168.55237079]]\n"
     ]
    }
   ],
   "source": [
    "print(f\"Predicted classes for Energy Difference: {predictions}\")"
   ]
  },
  {
   "cell_type": "code",
   "execution_count": 12,
   "metadata": {},
   "outputs": [
    {
     "data": {
      "text/plain": [
       "-114151048"
      ]
     },
     "execution_count": 12,
     "metadata": {},
     "output_type": "execute_result"
    }
   ],
   "source": [
    "d1 = model.predict([[2030]])\n",
    "d2 = model.predict([[2040]])\n",
    "d3=model.predict([[2050]])\n",
    "\n",
    "d1 = int(d1)\n",
    "d2 = int(d2)\n",
    "d3 = int(d3)\n",
    "d2"
   ]
  },
  {
   "cell_type": "markdown",
   "metadata": {},
   "source": [
    "# Renewable production score"
   ]
  },
  {
   "cell_type": "code",
   "execution_count": 13,
   "metadata": {},
   "outputs": [],
   "source": [
    "# get X and y values\n",
    "X1=df[\"Year\"].values.reshape(-1,1)\n",
    "y1=df[\"Prod Data\"].values.reshape(-1,1)"
   ]
  },
  {
   "cell_type": "code",
   "execution_count": 14,
   "metadata": {},
   "outputs": [
    {
     "data": {
      "text/plain": [
       "Text(0, 0.5, 'Renewable Production(BTU)')"
      ]
     },
     "execution_count": 14,
     "metadata": {},
     "output_type": "execute_result"
    },
    {
     "data": {
      "image/png": "[encoded data removed]",
      "text/plain": [
       "<Figure size 432x288 with 1 Axes>"
      ]
     },
     "metadata": {
      "needs_background": "light"
     },
     "output_type": "display_data"
    }
   ],
   "source": [
    "# see the data with plot\n",
    "plt.scatter(X1,y1)\n",
    "plt.title(\"Renewable Production vs Year\")\n",
    "plt.ylabel(\"Renewable Production(BTU)\")"
   ]
  },
  {
   "cell_type": "code",
   "execution_count": 15,
   "metadata": {},
   "outputs": [],
   "source": [
    "# split the data to train data and test data\n",
    "from sklearn.model_selection import train_test_split\n",
    "X1_train, X1_test, y1_train, y1_test = train_test_split(X1, y1, random_state=42)"
   ]
  },
  {
   "cell_type": "code",
   "execution_count": 16,
   "metadata": {},
   "outputs": [
    {
     "name": "stdout",
     "output_type": "stream",
     "text": [
      "Training Score: 0.8149735580654417\n",
      "Testing Score: 0.8725302168593446\n"
     ]
    }
   ],
   "source": [
    "# Create a LinearRegression model and fit it to the scaled training data\n",
    "\n",
    "from sklearn.linear_model import LinearRegression\n",
    "model1 = LinearRegression()\n",
    "model1.fit(X1_train, y1_train)\n",
    "\n",
    "# calculate the scores\n",
    "\n",
    "training_score1 = model1.score(X1_train, y1_train)\n",
    "testing_score1 = model1.score(X1_test, y1_test)\n",
    "\n",
    "print(f\"Training Score: {training_score1}\")\n",
    "print(f\"Testing Score: {testing_score1}\")"
   ]
  },
  {
   "cell_type": "code",
   "execution_count": 17,
   "metadata": {},
   "outputs": [
    {
     "name": "stdout",
     "output_type": "stream",
     "text": [
      "Mean Squared Error for Rewnewable Production(MSE): 359663058018.18695\n",
      "R-squared for Renewale Production (R2 ): 0.8725302168593446\n"
     ]
    }
   ],
   "source": [
    "# Use our model to make predictions\n",
    "from sklearn.metrics import mean_squared_error, r2_score\n",
    "predicted1 = model1.predict(X1_test)\n",
    "\n",
    "# Score the predictions with mse and r2\n",
    "mse = mean_squared_error(y1_test, predicted1)\n",
    "r2 = r2_score(y1_test, predicted1)\n",
    "\n",
    "print(f\"Mean Squared Error for Rewnewable Production(MSE): {mse}\")\n",
    "print(f\"R-squared for Renewale Production (R2 ): {r2}\")\n"
   ]
  },
  {
   "cell_type": "code",
   "execution_count": 18,
   "metadata": {},
   "outputs": [
    {
     "name": "stdout",
     "output_type": "stream",
     "text": [
      "Predicted classes for Renewable Production: [[2920437.09620896]\n",
      " [3447731.3371264 ]\n",
      " [6506037.93444768]\n",
      " [4291402.12259436]\n",
      " [7560626.41628256]]\n"
     ]
    }
   ],
   "source": [
    "# Predictions for Renewable production \n",
    "predictions1 = model1.predict(X1_test[:5])\n",
    "print(f\"Predicted classes for Renewable Production: {predictions1}\")"
   ]
  },
  {
   "cell_type": "code",
   "execution_count": 19,
   "metadata": {},
   "outputs": [
    {
     "data": {
      "text/plain": [
       "10302556"
      ]
     },
     "execution_count": 19,
     "metadata": {},
     "output_type": "execute_result"
    }
   ],
   "source": [
    "# renewable prediction for `2030`\n",
    "r1 = model1.predict([[2030]])\n",
    "r2 = model1.predict([[2040]])\n",
    "r3 = model1.predict([[2050]])\n",
    "r1 = int(r1)\n",
    "r2 = int(r2)\n",
    "r3 = int(r3)\n",
    "r1"
   ]
  },
  {
   "cell_type": "markdown",
   "metadata": {},
   "source": [
    "# Energy consumption score"
   ]
  },
  {
   "cell_type": "code",
   "execution_count": 20,
   "metadata": {},
   "outputs": [],
   "source": [
    "# assign X and y values\n",
    "X2 = df[\"Year\"].values.reshape(-1,1)\n",
    "y2 = df[\"Cons Data\"].values.reshape(-1,1)"
   ]
  },
  {
   "cell_type": "code",
   "execution_count": 21,
   "metadata": {},
   "outputs": [
    {
     "data": {
      "text/plain": [
       "Text(0, 0.5, 'Total Consumption(BTU)')"
      ]
     },
     "execution_count": 21,
     "metadata": {},
     "output_type": "execute_result"
    },
    {
     "data": {
      "image/png": "[encoded data removed]",
      "text/plain": [
       "<Figure size 432x288 with 1 Axes>"
      ]
     },
     "metadata": {
      "needs_background": "light"
     },
     "output_type": "display_data"
    }
   ],
   "source": [
    "# plot the values\n",
    "plt.scatter(X2,y2)\n",
    "plt.title(\"Energy Consumption vs Year\")\n",
    "plt.ylabel(\"Total Consumption(BTU)\")"
   ]
  },
  {
   "cell_type": "code",
   "execution_count": 22,
   "metadata": {},
   "outputs": [],
   "source": [
    "# split the consumption data to train data and test data\n",
    "from sklearn.model_selection import train_test_split\n",
    "X2_train, X2_test, y2_train, y2_test = train_test_split(X2, y2, random_state=42)"
   ]
  },
  {
   "cell_type": "code",
   "execution_count": 23,
   "metadata": {},
   "outputs": [
    {
     "name": "stdout",
     "output_type": "stream",
     "text": [
      "Training Score: 0.8787642208331853\n",
      "Testing Score: 0.8888925676295745\n"
     ]
    }
   ],
   "source": [
    "# Create a LinearRegression model and fit it to the scaled training data\n",
    "\n",
    "from sklearn.linear_model import LinearRegression\n",
    "model2 = LinearRegression()\n",
    "model2.fit(X2_train, y2_train)\n",
    "\n",
    "# calculate the scores\n",
    "\n",
    "training_score2 = model2.score(X2_train, y2_train)\n",
    "testing_score2 = model2.score(X2_test, y2_test)\n",
    "\n",
    "print(f\"Training Score: {training_score2}\")\n",
    "print(f\"Testing Score: {testing_score2}\")"
   ]
  },
  {
   "cell_type": "code",
   "execution_count": 24,
   "metadata": {},
   "outputs": [
    {
     "name": "stdout",
     "output_type": "stream",
     "text": [
      "Mean Squared Error for Total Energy Consumption(MSE): 37449833441984.21\n",
      "R-squared for Total Energy Consumption (R2 ): 0.8888925676295745\n"
     ]
    }
   ],
   "source": [
    "# Use our model to make predictions\n",
    "from sklearn.metrics import mean_squared_error, r2_score\n",
    "predicted2 = model2.predict(X2_test)\n",
    "\n",
    "# Score the predictions with mse and r2\n",
    "mse = mean_squared_error(y2_test, predicted2)\n",
    "r2 = r2_score(y2_test, predicted2)\n",
    "\n",
    "print(f\"Mean Squared Error for Total Energy Consumption(MSE): {mse}\")\n",
    "print(f\"R-squared for Total Energy Consumption (R2 ): {r2}\")\n"
   ]
  },
  {
   "cell_type": "code",
   "execution_count": 25,
   "metadata": {},
   "outputs": [
    {
     "name": "stdout",
     "output_type": "stream",
     "text": [
      "Predicted classes for Total Consumed Energy: [[57053974.67056155]\n",
      " [61332363.34079933]\n",
      " [86147017.62817788]\n",
      " [68177785.21317959]\n",
      " [94703794.9686532 ]]\n"
     ]
    }
   ],
   "source": [
    "# Predictions for total consumption \n",
    "predictions2 = model2.predict(X2_test[:5])\n",
    "print(f\"Predicted classes for Total Consumed Energy: {predictions2}\")"
   ]
  },
  {
   "cell_type": "code",
   "execution_count": 37,
   "metadata": {},
   "outputs": [
    {
     "data": {
      "text/plain": [
       "134064970"
      ]
     },
     "execution_count": 37,
     "metadata": {},
     "output_type": "execute_result"
    }
   ],
   "source": [
    "# total energy consumption predictions for 2030,2040,2050\n",
    "c1 = model2.predict([[2030]])\n",
    "c2 = model2.predict([[2040]])\n",
    "c3 = model2.predict([[2050]])\n",
    "\n",
    "# convert the data type\n",
    "c1 = int(c1)\n",
    "c2 = int(c2)\n",
    "c3 = int(c3)\n",
    "c3"
   ]
  },
  {
   "cell_type": "code",
   "execution_count": 41,
   "metadata": {},
   "outputs": [
    {
     "data": {
      "text/html": [
       "<div>\n",
       "<style scoped>\n",
       "    .dataframe tbody tr th:only-of-type {\n",
       "        vertical-align: middle;\n",
       "    }\n",
       "\n",
       "    .dataframe tbody tr th {\n",
       "        vertical-align: top;\n",
       "    }\n",
       "\n",
       "    .dataframe thead th {\n",
       "        text-align: right;\n",
       "    }\n",
       "</style>\n",
       "<table border=\"1\" class=\"dataframe\">\n",
       "  <thead>\n",
       "    <tr style=\"text-align: right;\">\n",
       "      <th></th>\n",
       "      <th>Year</th>\n",
       "      <th>Prod Data</th>\n",
       "      <th>Cons Data</th>\n",
       "      <th>Comparison</th>\n",
       "    </tr>\n",
       "  </thead>\n",
       "  <tbody>\n",
       "    <tr>\n",
       "      <th>0</th>\n",
       "      <td>2030</td>\n",
       "      <td>1.030256e+07</td>\n",
       "      <td>116951416</td>\n",
       "      <td>-106648859</td>\n",
       "    </tr>\n",
       "    <tr>\n",
       "      <th>1</th>\n",
       "      <td>2040</td>\n",
       "      <td>8.888926e-01</td>\n",
       "      <td>125508193</td>\n",
       "      <td>-114151048</td>\n",
       "    </tr>\n",
       "    <tr>\n",
       "      <th>2</th>\n",
       "      <td>2050</td>\n",
       "      <td>1.241173e+07</td>\n",
       "      <td>134064970</td>\n",
       "      <td>-121653237</td>\n",
       "    </tr>\n",
       "  </tbody>\n",
       "</table>\n",
       "</div>"
      ],
      "text/plain": [
       "   Year     Prod Data  Cons Data  Comparison\n",
       "0  2030  1.030256e+07  116951416  -106648859\n",
       "1  2040  8.888926e-01  125508193  -114151048\n",
       "2  2050  1.241173e+07  134064970  -121653237"
      ]
     },
     "execution_count": 41,
     "metadata": {},
     "output_type": "execute_result"
    }
   ],
   "source": [
    "# Save the predictions to a csv\n",
    "predictions_dict = {\n",
    "    \"Year\": [2030, 2040, 2050],\n",
    "    \"Prod Data\": [r1,r2,r3],\n",
    "    \"Cons Data\": [c1,c2,c3],\n",
    "    \"Comparison\": [d1,d2,d3],\n",
    "    \n",
    "}\n",
    "\n",
    "# Create a dataFrame from the dictionary\n",
    "prediction_df = pd.DataFrame(predictions_dict)\n",
    "prediction_df"
   ]
  },
  {
   "cell_type": "code",
   "execution_count": 42,
   "metadata": {},
   "outputs": [],
   "source": [
    "# save the predictions to a csv file\n",
    "prediction_df.to_csv(\"db/us-predictions.csv\")"
   ]
  },
  {
   "cell_type": "code",
   "execution_count": null,
   "metadata": {},
   "outputs": [],
   "source": []
  }
 ],
 "metadata": {
  "kernelspec": {
   "display_name": "Python [conda env:pythondata] *",
   "language": "python",
   "name": "conda-env-pythondata-py"
  },
  "language_info": {
   "codemirror_mode": {
    "name": "ipython",
    "version": 3
   },
   "file_extension": ".py",
   "mimetype": "text/x-python",
   "name": "python",
   "nbconvert_exporter": "python",
   "pygments_lexer": "ipython3",
   "version": "3.7.4"
  }
 },
 "nbformat": 4,
 "nbformat_minor": 2
}
